{
 "cells": [
  {
   "cell_type": "markdown",
   "metadata": {},
   "source": [
    "# Model exploration\n",
    "\n",
    "## Introduction\n",
    "\n",
    "This notebook is used to explore the different models that we will use to predict if the player is worth inveting in. We will use the same data cleaning and feature selecting as the one found in the notebook `data_preprocessing.ipynb`. We will then search for the best hyperparameters for one ore two selected models. We might explore to put some threashold on the predicted values probabilities to adjust the prediction to better fit our metrics. As we disccused in the `data_preprocessing.ipynb` notebook, we will use first f1 score to evaluate our models. We will have alook at the recalls as well as we don't want to miss too much players. We will then select the best model and save it to use it in the API."
   ]
  },
  {
   "cell_type": "code",
   "execution_count": 141,
   "metadata": {},
   "outputs": [],
   "source": [
    "import numpy as np\n",
    "import pandas as pd\n",
    "import seaborn as sns\n",
    "from matplotlib import pyplot as plt\n",
    "\n",
    "pd.set_option('display.max_column', None)\n",
    "\n",
    "data_path = './../data/nba_logreg.csv'\n",
    "df = pd.read_csv(data_path)\n",
    "\n",
    "FOLDS = 3"
   ]
  },
  {
   "cell_type": "markdown",
   "metadata": {},
   "source": [
    "## Functions to preprocess and evaluate the data"
   ]
  },
  {
   "cell_type": "code",
   "execution_count": 142,
   "metadata": {},
   "outputs": [],
   "source": [
    "from imblearn.under_sampling import RandomUnderSampler\n",
    "from imblearn.over_sampling import SMOTE, RandomOverSampler\n",
    "\n",
    "def preprocessing(data, method=None):\n",
    "    \"\"\"\n",
    "    Preprocessing data\n",
    "\n",
    "    Parameters\n",
    "    ----------\n",
    "    data : pandas.DataFrame\n",
    "        Data to be preprocessed\n",
    "    method : str\n",
    "        Method to be used for balancing data, default None\n",
    "    \"\"\"\n",
    "    data = data.drop(['Name'], axis=1)\n",
    "    data.loc[:, '3P%'] = data.loc[:, '3P%'].fillna(0)\n",
    "    data = data.drop_duplicates()\n",
    "    \n",
    "    if method == 'oversample':\n",
    "        ros = RandomOverSampler(random_state=0)\n",
    "        X = data.drop('TARGET_5Yrs', axis=1)\n",
    "        y = data['TARGET_5Yrs']\n",
    "        X_resampled, y_resampled = ros.fit_resample(X, y)\n",
    "        data = pd.concat([X_resampled, y_resampled], axis=1)\n",
    "    elif method == 'undersample':\n",
    "        rus = RandomUnderSampler(random_state=0)\n",
    "        X = data.drop('TARGET_5Yrs', axis=1)\n",
    "        y = data['TARGET_5Yrs']\n",
    "        X_resampled, y_resampled = rus.fit_resample(X, y)\n",
    "        data = pd.concat([X_resampled, y_resampled], axis=1).reset_index(drop=True)\n",
    "    elif method == 'smote':\n",
    "        sm = SMOTE(random_state=0)\n",
    "        X = data.drop('TARGET_5Yrs', axis=1)\n",
    "        y = data['TARGET_5Yrs']\n",
    "        X_resampled, y_resampled = sm.fit_resample(X, y)\n",
    "        data = pd.concat([X_resampled, y_resampled], axis=1)\n",
    "    \n",
    "    return data"
   ]
  },
  {
   "cell_type": "code",
   "execution_count": 143,
   "metadata": {},
   "outputs": [],
   "source": [
    "from sklearn.metrics import confusion_matrix, recall_score, precision_score\n",
    "from sklearn.model_selection import KFold\n",
    "\n",
    "def score_classifier(dataset,classifier,labels, folds=FOLDS, verbose=True, threshold_func=None):\n",
    "    \n",
    "    \"\"\"\n",
    "    This function takes in a dataset, classifier and labels and returns the mean confusion matrix, recall, precision, accuracy and f1 score\n",
    "    for the classifier using KFold cross validation with the number of folds specified by the user\n",
    "\n",
    "    Parameters:\n",
    "    dataset: pandas dataframe\n",
    "    classifier: sklearn classifier\n",
    "    labels: pandas series\n",
    "    folds: int\n",
    "\n",
    "    Returns:\n",
    "    dict: dictionary containing mean confusion matrix, recall, precision, accuracy and f1 score\n",
    "    \"\"\"\n",
    "\n",
    "    kf = KFold(n_splits=folds,random_state=50,shuffle=True)\n",
    "    confusion_mat_list = []\n",
    "    recall_list = []\n",
    "    precision_list = []\n",
    "    accuracy_list = []\n",
    "    f1_list = []\n",
    "\n",
    "    for training_ids,test_ids in kf.split(dataset):\n",
    "        training_set = dataset.iloc[training_ids]\n",
    "        training_labels = labels.iloc[training_ids]\n",
    "        test_set = dataset.iloc[test_ids]\n",
    "        test_labels = labels.iloc[test_ids]\n",
    "        classifier.fit(training_set,training_labels)\n",
    "\n",
    "        if threshold_func:\n",
    "            predicted_labels = threshold_func(classifier, test_set)\n",
    "\n",
    "        else:\n",
    "            predicted_labels = classifier.predict(test_set)\n",
    "\n",
    "        confusion_mat = confusion_matrix(test_labels,predicted_labels)\n",
    "        recall = recall_score(test_labels, predicted_labels)\n",
    "        precision = precision_score(test_labels, predicted_labels)\n",
    "        accuracy = classifier.score(test_set, test_labels)\n",
    "        f1 = 2 * (precision * recall) / (precision + recall)\n",
    "\n",
    "        recall_list.append(recall)\n",
    "        precision_list.append(precision)\n",
    "        accuracy_list.append(accuracy)\n",
    "        f1_list.append(f1)\n",
    "        confusion_mat_list.append(confusion_mat)\n",
    "\n",
    "    recall = np.mean(recall_list)\n",
    "    precision = np.mean(precision_list)\n",
    "    accuracy = np.mean(accuracy_list)\n",
    "    f1 = np.mean(f1_list)\n",
    "    confusion_mat = np.mean(confusion_mat_list,axis=0).astype(int)\n",
    "    confusion_mat_df = pd.DataFrame(confusion_mat,columns=['Predicted 0','Predicted 1'],index=['Actual 0','Actual 1'])\n",
    "\n",
    "    if verbose:\n",
    "        print(f\"confusion_mat: \\n {confusion_mat_df}\")\n",
    "        print(f\"recall:{recall}\")\n",
    "        print(f\"precision:{precision}\")\n",
    "        print(f\"accuracy:{accuracy}\")\n",
    "        print(f\"f1:{f1}\")\n",
    "    return {'confusion_mat':confusion_mat,'recall':recall,'precision':precision,'accuracy':accuracy,'f1':f1, 'classifier':classifier}\n"
   ]
  },
  {
   "cell_type": "markdown",
   "metadata": {},
   "source": [
    "## First score\n",
    "\n",
    "Have a look at the score that we obtain if we apply the process of the test.py file to the data. We will use the same process to evaluate the models."
   ]
  },
  {
   "cell_type": "code",
   "execution_count": 140,
   "metadata": {},
   "outputs": [
    {
     "name": "stdout",
     "output_type": "stream",
     "text": [
      "confusion_mat: \n",
      "           Predicted 0  Predicted 1\n",
      "Actual 0           88           81\n",
      "Actual 1           49          227\n",
      "recall:0.82197349073024\n",
      "precision:0.737884007009773\n",
      "accuracy:0.7082142033085542\n",
      "f1:0.7774117527708234\n"
     ]
    }
   ],
   "source": [
    "# first scores\n",
    "\n",
    "from sklearn.preprocessing import MinMaxScaler\n",
    "from sklearn.svm import SVC\n",
    "from sklearn.pipeline import Pipeline\n",
    "\n",
    "df_test = df.copy()\n",
    "X = df_test.drop(['TARGET_5Yrs', 'Name'], axis=1)\n",
    "y = df_test['TARGET_5Yrs']\n",
    "\n",
    "# fill nan\n",
    "X.loc[:, '3P%'] = X.loc[:, '3P%'].fillna(0)\n",
    "\n",
    "pipeline = Pipeline(steps=[('scaler', MinMaxScaler()), ('classifier', SVC())])\n",
    "\n",
    "scores = score_classifier(X, pipeline, y)\n"
   ]
  },
  {
   "cell_type": "markdown",
   "metadata": {},
   "source": [
    "The f1 score and recall are already quite good. We will try to see if we can improve them. We had a better f1 score with the logistc regression model. Let's try other models to see if it improves."
   ]
  },
  {
   "cell_type": "markdown",
   "metadata": {},
   "source": [
    "## Models search\n",
    "\n",
    "Let's first try a banch of different models to see which one is the best. we will standardize the data for each model has some of them are sensitive to the scale of the data."
   ]
  },
  {
   "cell_type": "code",
   "execution_count": 144,
   "metadata": {},
   "outputs": [
    {
     "data": {
      "text/html": [
       "<div>\n",
       "<style scoped>\n",
       "    .dataframe tbody tr th:only-of-type {\n",
       "        vertical-align: middle;\n",
       "    }\n",
       "\n",
       "    .dataframe tbody tr th {\n",
       "        vertical-align: top;\n",
       "    }\n",
       "\n",
       "    .dataframe thead th {\n",
       "        text-align: right;\n",
       "    }\n",
       "</style>\n",
       "<table border=\"1\" class=\"dataframe\">\n",
       "  <thead>\n",
       "    <tr style=\"text-align: right;\">\n",
       "      <th></th>\n",
       "      <th>confusion_mat</th>\n",
       "      <th>recall</th>\n",
       "      <th>precision</th>\n",
       "      <th>accuracy</th>\n",
       "      <th>f1</th>\n",
       "      <th>classifier</th>\n",
       "      <th>model_name</th>\n",
       "    </tr>\n",
       "  </thead>\n",
       "  <tbody>\n",
       "    <tr>\n",
       "      <th>0</th>\n",
       "      <td>[[91, 77], [45, 229]]</td>\n",
       "      <td>0.835538</td>\n",
       "      <td>0.748499</td>\n",
       "      <td>0.724392</td>\n",
       "      <td>0.789615</td>\n",
       "      <td>(StandardScaler(), SVC())</td>\n",
       "      <td>SVC</td>\n",
       "    </tr>\n",
       "    <tr>\n",
       "      <th>1</th>\n",
       "      <td>[[89, 79], [50, 224]]</td>\n",
       "      <td>0.816507</td>\n",
       "      <td>0.739207</td>\n",
       "      <td>0.707830</td>\n",
       "      <td>0.775895</td>\n",
       "      <td>(StandardScaler(), LogisticRegression())</td>\n",
       "      <td>LogisticRegression</td>\n",
       "    </tr>\n",
       "    <tr>\n",
       "      <th>2</th>\n",
       "      <td>[[92, 76], [57, 217]]</td>\n",
       "      <td>0.791978</td>\n",
       "      <td>0.740839</td>\n",
       "      <td>0.699544</td>\n",
       "      <td>0.765499</td>\n",
       "      <td>(StandardScaler(), (DecisionTreeClassifier(max...</td>\n",
       "      <td>RandomForestClassifier</td>\n",
       "    </tr>\n",
       "    <tr>\n",
       "      <th>3</th>\n",
       "      <td>[[88, 80], [57, 217]]</td>\n",
       "      <td>0.791079</td>\n",
       "      <td>0.730573</td>\n",
       "      <td>0.689749</td>\n",
       "      <td>0.759556</td>\n",
       "      <td>(StandardScaler(), ([DecisionTreeRegressor(cri...</td>\n",
       "      <td>GradientBoostingClassifier</td>\n",
       "    </tr>\n",
       "    <tr>\n",
       "      <th>4</th>\n",
       "      <td>[[85, 82], [60, 214]]</td>\n",
       "      <td>0.779440</td>\n",
       "      <td>0.722338</td>\n",
       "      <td>0.676968</td>\n",
       "      <td>0.749539</td>\n",
       "      <td>(StandardScaler(), KNeighborsClassifier())</td>\n",
       "      <td>KNeighborsClassifier</td>\n",
       "    </tr>\n",
       "    <tr>\n",
       "      <th>5</th>\n",
       "      <td>[[86, 81], [63, 211]]</td>\n",
       "      <td>0.769632</td>\n",
       "      <td>0.720752</td>\n",
       "      <td>0.673166</td>\n",
       "      <td>0.744344</td>\n",
       "      <td>(StandardScaler(), XGBClassifier(base_score=No...</td>\n",
       "      <td>XGBClassifier</td>\n",
       "    </tr>\n",
       "    <tr>\n",
       "      <th>6</th>\n",
       "      <td>[[90, 78], [67, 207]]</td>\n",
       "      <td>0.754728</td>\n",
       "      <td>0.726456</td>\n",
       "      <td>0.671684</td>\n",
       "      <td>0.740181</td>\n",
       "      <td>(StandardScaler(), (DecisionTreeClassifier(max...</td>\n",
       "      <td>AdaBoostClassifier</td>\n",
       "    </tr>\n",
       "    <tr>\n",
       "      <th>7</th>\n",
       "      <td>[[80, 87], [88, 186]]</td>\n",
       "      <td>0.680233</td>\n",
       "      <td>0.680316</td>\n",
       "      <td>0.603165</td>\n",
       "      <td>0.679910</td>\n",
       "      <td>(StandardScaler(), DecisionTreeClassifier())</td>\n",
       "      <td>DecisionTreeClassifier</td>\n",
       "    </tr>\n",
       "  </tbody>\n",
       "</table>\n",
       "</div>"
      ],
      "text/plain": [
       "           confusion_mat    recall  precision  accuracy        f1  \\\n",
       "0  [[91, 77], [45, 229]]  0.835538   0.748499  0.724392  0.789615   \n",
       "1  [[89, 79], [50, 224]]  0.816507   0.739207  0.707830  0.775895   \n",
       "2  [[92, 76], [57, 217]]  0.791978   0.740839  0.699544  0.765499   \n",
       "3  [[88, 80], [57, 217]]  0.791079   0.730573  0.689749  0.759556   \n",
       "4  [[85, 82], [60, 214]]  0.779440   0.722338  0.676968  0.749539   \n",
       "5  [[86, 81], [63, 211]]  0.769632   0.720752  0.673166  0.744344   \n",
       "6  [[90, 78], [67, 207]]  0.754728   0.726456  0.671684  0.740181   \n",
       "7  [[80, 87], [88, 186]]  0.680233   0.680316  0.603165  0.679910   \n",
       "\n",
       "                                          classifier  \\\n",
       "0                          (StandardScaler(), SVC())   \n",
       "1           (StandardScaler(), LogisticRegression())   \n",
       "2  (StandardScaler(), (DecisionTreeClassifier(max...   \n",
       "3  (StandardScaler(), ([DecisionTreeRegressor(cri...   \n",
       "4         (StandardScaler(), KNeighborsClassifier())   \n",
       "5  (StandardScaler(), XGBClassifier(base_score=No...   \n",
       "6  (StandardScaler(), (DecisionTreeClassifier(max...   \n",
       "7       (StandardScaler(), DecisionTreeClassifier())   \n",
       "\n",
       "                   model_name  \n",
       "0                         SVC  \n",
       "1          LogisticRegression  \n",
       "2      RandomForestClassifier  \n",
       "3  GradientBoostingClassifier  \n",
       "4        KNeighborsClassifier  \n",
       "5               XGBClassifier  \n",
       "6          AdaBoostClassifier  \n",
       "7      DecisionTreeClassifier  "
      ]
     },
     "execution_count": 144,
     "metadata": {},
     "output_type": "execute_result"
    }
   ],
   "source": [
    "# model search\n",
    "\n",
    "from sklearn.linear_model import LogisticRegression\n",
    "from sklearn.ensemble import RandomForestClassifier\n",
    "from sklearn.svm import SVC\n",
    "from sklearn.ensemble import GradientBoostingClassifier\n",
    "from sklearn.neighbors import KNeighborsClassifier\n",
    "from sklearn.tree import DecisionTreeClassifier\n",
    "from sklearn.ensemble import AdaBoostClassifier\n",
    "from xgboost import XGBClassifier\n",
    "\n",
    "from sklearn.feature_selection import SelectKBest, f_classif\n",
    "from sklearn.preprocessing import PolynomialFeatures, StandardScaler\n",
    "\n",
    "from sklearn.pipeline import Pipeline\n",
    "\n",
    "target = 'TARGET_5Yrs'\n",
    "balance_method = None\n",
    "\n",
    "data_processed = preprocessing(df, balance_method)\n",
    "models = [LogisticRegression(), RandomForestClassifier(), SVC(), GradientBoostingClassifier(), KNeighborsClassifier(), DecisionTreeClassifier(), AdaBoostClassifier(), XGBClassifier()]\n",
    "model_names = ['LogisticRegression', 'RandomForestClassifier', 'SVC', 'GradientBoostingClassifier', 'KNeighborsClassifier', 'DecisionTreeClassifier', 'AdaBoostClassifier', 'XGBClassifier']\n",
    "\n",
    "results = []\n",
    "\n",
    "for model, model_name in zip(models, model_names):\n",
    "    pipeline = Pipeline(steps=[('scaler', StandardScaler()), ('model', model)])\n",
    "    result = score_classifier(data_processed.drop(target, axis=1), pipeline, data_processed[target], verbose=False)\n",
    "    result['model_name'] = model_name\n",
    "    results.append(result)\n",
    "\n",
    "results_df = pd.DataFrame(results)\n",
    "results_df = results_df.sort_values(by='f1', ascending=False)\n",
    "results_df = results_df.reset_index(drop=True)\n",
    "results_df"
   ]
  },
  {
   "cell_type": "markdown",
   "metadata": {},
   "source": [
    "We observe that SVC has the best results among all the models that we tested. The standart scaler seems to have decrease the performance of the logistic regression model. Let's to use only the features that we selected in the notebook."
   ]
  },
  {
   "cell_type": "code",
   "execution_count": 146,
   "metadata": {},
   "outputs": [
    {
     "data": {
      "text/html": [
       "<div>\n",
       "<style scoped>\n",
       "    .dataframe tbody tr th:only-of-type {\n",
       "        vertical-align: middle;\n",
       "    }\n",
       "\n",
       "    .dataframe tbody tr th {\n",
       "        vertical-align: top;\n",
       "    }\n",
       "\n",
       "    .dataframe thead th {\n",
       "        text-align: right;\n",
       "    }\n",
       "</style>\n",
       "<table border=\"1\" class=\"dataframe\">\n",
       "  <thead>\n",
       "    <tr style=\"text-align: right;\">\n",
       "      <th></th>\n",
       "      <th>confusion_mat</th>\n",
       "      <th>recall</th>\n",
       "      <th>precision</th>\n",
       "      <th>accuracy</th>\n",
       "      <th>f1</th>\n",
       "      <th>classifier</th>\n",
       "      <th>model_name</th>\n",
       "    </tr>\n",
       "  </thead>\n",
       "  <tbody>\n",
       "    <tr>\n",
       "      <th>0</th>\n",
       "      <td>[[65, 61], [38, 167]]</td>\n",
       "      <td>0.811455</td>\n",
       "      <td>0.732880</td>\n",
       "      <td>0.699548</td>\n",
       "      <td>0.769699</td>\n",
       "      <td>(StandardScaler(), ([DecisionTreeRegressor(cri...</td>\n",
       "      <td>GradientBoostingClassifier</td>\n",
       "    </tr>\n",
       "    <tr>\n",
       "      <th>1</th>\n",
       "      <td>[[68, 57], [41, 164]]</td>\n",
       "      <td>0.797009</td>\n",
       "      <td>0.741826</td>\n",
       "      <td>0.701807</td>\n",
       "      <td>0.768044</td>\n",
       "      <td>(StandardScaler(), SVC())</td>\n",
       "      <td>SVC</td>\n",
       "    </tr>\n",
       "    <tr>\n",
       "      <th>2</th>\n",
       "      <td>[[65, 60], [40, 165]]</td>\n",
       "      <td>0.802811</td>\n",
       "      <td>0.733200</td>\n",
       "      <td>0.696536</td>\n",
       "      <td>0.765921</td>\n",
       "      <td>(StandardScaler(), LogisticRegression())</td>\n",
       "      <td>LogisticRegression</td>\n",
       "    </tr>\n",
       "    <tr>\n",
       "      <th>3</th>\n",
       "      <td>[[64, 61], [45, 161]]</td>\n",
       "      <td>0.781418</td>\n",
       "      <td>0.723157</td>\n",
       "      <td>0.678464</td>\n",
       "      <td>0.750508</td>\n",
       "      <td>(StandardScaler(), (DecisionTreeClassifier(max...</td>\n",
       "      <td>RandomForestClassifier</td>\n",
       "    </tr>\n",
       "    <tr>\n",
       "      <th>4</th>\n",
       "      <td>[[68, 57], [49, 157]]</td>\n",
       "      <td>0.762112</td>\n",
       "      <td>0.731604</td>\n",
       "      <td>0.678464</td>\n",
       "      <td>0.746257</td>\n",
       "      <td>(StandardScaler(), (DecisionTreeClassifier(max...</td>\n",
       "      <td>AdaBoostClassifier</td>\n",
       "    </tr>\n",
       "    <tr>\n",
       "      <th>5</th>\n",
       "      <td>[[62, 63], [46, 159]]</td>\n",
       "      <td>0.772423</td>\n",
       "      <td>0.714348</td>\n",
       "      <td>0.667922</td>\n",
       "      <td>0.741932</td>\n",
       "      <td>(StandardScaler(), KNeighborsClassifier())</td>\n",
       "      <td>KNeighborsClassifier</td>\n",
       "    </tr>\n",
       "    <tr>\n",
       "      <th>6</th>\n",
       "      <td>[[65, 61], [51, 155]]</td>\n",
       "      <td>0.751639</td>\n",
       "      <td>0.716377</td>\n",
       "      <td>0.662651</td>\n",
       "      <td>0.732907</td>\n",
       "      <td>(StandardScaler(), XGBClassifier(base_score=No...</td>\n",
       "      <td>XGBClassifier</td>\n",
       "    </tr>\n",
       "    <tr>\n",
       "      <th>7</th>\n",
       "      <td>[[62, 64], [67, 138]]</td>\n",
       "      <td>0.670609</td>\n",
       "      <td>0.683103</td>\n",
       "      <td>0.603163</td>\n",
       "      <td>0.676626</td>\n",
       "      <td>(StandardScaler(), DecisionTreeClassifier())</td>\n",
       "      <td>DecisionTreeClassifier</td>\n",
       "    </tr>\n",
       "  </tbody>\n",
       "</table>\n",
       "</div>"
      ],
      "text/plain": [
       "           confusion_mat    recall  precision  accuracy        f1  \\\n",
       "0  [[65, 61], [38, 167]]  0.811455   0.732880  0.699548  0.769699   \n",
       "1  [[68, 57], [41, 164]]  0.797009   0.741826  0.701807  0.768044   \n",
       "2  [[65, 60], [40, 165]]  0.802811   0.733200  0.696536  0.765921   \n",
       "3  [[64, 61], [45, 161]]  0.781418   0.723157  0.678464  0.750508   \n",
       "4  [[68, 57], [49, 157]]  0.762112   0.731604  0.678464  0.746257   \n",
       "5  [[62, 63], [46, 159]]  0.772423   0.714348  0.667922  0.741932   \n",
       "6  [[65, 61], [51, 155]]  0.751639   0.716377  0.662651  0.732907   \n",
       "7  [[62, 64], [67, 138]]  0.670609   0.683103  0.603163  0.676626   \n",
       "\n",
       "                                          classifier  \\\n",
       "0  (StandardScaler(), ([DecisionTreeRegressor(cri...   \n",
       "1                          (StandardScaler(), SVC())   \n",
       "2           (StandardScaler(), LogisticRegression())   \n",
       "3  (StandardScaler(), (DecisionTreeClassifier(max...   \n",
       "4  (StandardScaler(), (DecisionTreeClassifier(max...   \n",
       "5         (StandardScaler(), KNeighborsClassifier())   \n",
       "6  (StandardScaler(), XGBClassifier(base_score=No...   \n",
       "7       (StandardScaler(), DecisionTreeClassifier())   \n",
       "\n",
       "                   model_name  \n",
       "0  GradientBoostingClassifier  \n",
       "1                         SVC  \n",
       "2          LogisticRegression  \n",
       "3      RandomForestClassifier  \n",
       "4          AdaBoostClassifier  \n",
       "5        KNeighborsClassifier  \n",
       "6               XGBClassifier  \n",
       "7      DecisionTreeClassifier  "
      ]
     },
     "execution_count": 146,
     "metadata": {},
     "output_type": "execute_result"
    }
   ],
   "source": [
    "# model search - feature selection\n",
    "\n",
    "from sklearn.linear_model import LogisticRegression\n",
    "from sklearn.ensemble import RandomForestClassifier\n",
    "from sklearn.svm import SVC\n",
    "from sklearn.ensemble import GradientBoostingClassifier\n",
    "from sklearn.neighbors import KNeighborsClassifier\n",
    "from sklearn.tree import DecisionTreeClassifier\n",
    "from sklearn.ensemble import AdaBoostClassifier\n",
    "from xgboost import XGBClassifier\n",
    "\n",
    "from sklearn.feature_selection import SelectKBest, f_classif\n",
    "from sklearn.preprocessing import PolynomialFeatures, StandardScaler\n",
    "\n",
    "from sklearn.pipeline import Pipeline\n",
    "\n",
    "target = 'TARGET_5Yrs'\n",
    "balance_method = None\n",
    "features_selected = ['GP', 'PTS', 'FGM', 'MIN', 'FGA', 'DREB', 'BLK', 'AST']\n",
    "\n",
    "data_processed = preprocessing(df, balance_method)\n",
    "X = data_processed[features_selected]\n",
    "y = data_processed[target]\n",
    "\n",
    "models = [LogisticRegression(), RandomForestClassifier(), SVC(), GradientBoostingClassifier(), KNeighborsClassifier(), DecisionTreeClassifier(), AdaBoostClassifier(), XGBClassifier()]\n",
    "model_names = ['LogisticRegression', 'RandomForestClassifier', 'SVC', 'GradientBoostingClassifier', 'KNeighborsClassifier', 'DecisionTreeClassifier', 'AdaBoostClassifier', 'XGBClassifier']\n",
    "\n",
    "results = []\n",
    "\n",
    "for model, model_name in zip(models, model_names):\n",
    "    pipeline = Pipeline(steps=[('scaler', StandardScaler()), ('model', model)])\n",
    "    result = score_classifier(X, pipeline, y, folds=4, verbose=False)\n",
    "    result['model_name'] = model_name\n",
    "    results.append(result)\n",
    "\n",
    "results_df = pd.DataFrame(results)\n",
    "results_df = results_df.sort_values(by='f1', ascending=False)\n",
    "results_df = results_df.reset_index(drop=True)\n",
    "results_df"
   ]
  },
  {
   "cell_type": "markdown",
   "metadata": {},
   "source": [
    "We observe a decrease of performance for the best models. Let's try to remove the satndart scaler for logistic though it seems to have a better performance without it."
   ]
  },
  {
   "cell_type": "code",
   "execution_count": 147,
   "metadata": {},
   "outputs": [
    {
     "data": {
      "text/html": [
       "<div>\n",
       "<style scoped>\n",
       "    .dataframe tbody tr th:only-of-type {\n",
       "        vertical-align: middle;\n",
       "    }\n",
       "\n",
       "    .dataframe tbody tr th {\n",
       "        vertical-align: top;\n",
       "    }\n",
       "\n",
       "    .dataframe thead th {\n",
       "        text-align: right;\n",
       "    }\n",
       "</style>\n",
       "<table border=\"1\" class=\"dataframe\">\n",
       "  <thead>\n",
       "    <tr style=\"text-align: right;\">\n",
       "      <th></th>\n",
       "      <th>confusion_mat</th>\n",
       "      <th>recall</th>\n",
       "      <th>precision</th>\n",
       "      <th>accuracy</th>\n",
       "      <th>f1</th>\n",
       "      <th>classifier</th>\n",
       "      <th>model_name</th>\n",
       "    </tr>\n",
       "  </thead>\n",
       "  <tbody>\n",
       "    <tr>\n",
       "      <th>0</th>\n",
       "      <td>[[44, 56], [21, 143]]</td>\n",
       "      <td>0.868543</td>\n",
       "      <td>0.718817</td>\n",
       "      <td>0.707820</td>\n",
       "      <td>0.786000</td>\n",
       "      <td>(LogisticRegression(C=0.1, solver='liblinear'))</td>\n",
       "      <td>LogisticRegression</td>\n",
       "    </tr>\n",
       "    <tr>\n",
       "      <th>1</th>\n",
       "      <td>[[54, 46], [33, 131]]</td>\n",
       "      <td>0.797929</td>\n",
       "      <td>0.741074</td>\n",
       "      <td>0.701793</td>\n",
       "      <td>0.767685</td>\n",
       "      <td>(StandardScaler(), SVC())</td>\n",
       "      <td>SVC</td>\n",
       "    </tr>\n",
       "  </tbody>\n",
       "</table>\n",
       "</div>"
      ],
      "text/plain": [
       "           confusion_mat    recall  precision  accuracy        f1  \\\n",
       "0  [[44, 56], [21, 143]]  0.868543   0.718817  0.707820  0.786000   \n",
       "1  [[54, 46], [33, 131]]  0.797929   0.741074  0.701793  0.767685   \n",
       "\n",
       "                                        classifier          model_name  \n",
       "0  (LogisticRegression(C=0.1, solver='liblinear'))  LogisticRegression  \n",
       "1                        (StandardScaler(), SVC())                 SVC  "
      ]
     },
     "execution_count": 147,
     "metadata": {},
     "output_type": "execute_result"
    }
   ],
   "source": [
    "# model search - feature selection\n",
    "\n",
    "from sklearn.feature_selection import SelectKBest, f_classif\n",
    "from sklearn.preprocessing import PolynomialFeatures, StandardScaler\n",
    "\n",
    "from sklearn.pipeline import Pipeline\n",
    "\n",
    "target = 'TARGET_5Yrs'\n",
    "balance_method = None\n",
    "features_selected = ['GP', 'PTS', 'FGM', 'MIN', 'FGA', 'DREB', 'BLK', 'AST']\n",
    "\n",
    "data_processed = preprocessing(df, balance_method)\n",
    "X = data_processed[features_selected]\n",
    "y = data_processed[target]\n",
    "\n",
    "lr = Pipeline(steps=[('model', LogisticRegression(C=0.1, solver='liblinear'))])\n",
    "svc = Pipeline(steps=[('scaler', StandardScaler()), ('model', SVC())])\n",
    "\n",
    "models = [lr, svc]\n",
    "model_names = ['LogisticRegression', 'SVC']\n",
    "\n",
    "results = []\n",
    "\n",
    "for model, model_name in zip(models, model_names):\n",
    "    result = score_classifier(X, model, y, folds=5, verbose=False)\n",
    "    result['model_name'] = model_name\n",
    "    results.append(result)\n",
    "\n",
    "results_df = pd.DataFrame(results)\n",
    "results_df = results_df.sort_values(by='f1', ascending=False)\n",
    "results_df = results_df.reset_index(drop=True)\n",
    "results_df"
   ]
  },
  {
   "cell_type": "markdown",
   "metadata": {},
   "source": [
    "We observe that the logistic regression model has the best performance if we remove the standart scaler for it. Let's try to tune the hyperparameters of this model to see if we can improve the performance. However let's remind that SVC had better performances on all features selected."
   ]
  },
  {
   "cell_type": "markdown",
   "metadata": {},
   "source": [
    "## Hyperparameters tuning\n",
    "\n",
    "Let's first try on the logistic regression model. let's add an autolmatic selection of the best features with ANOVA test, polynomial features, search for the best C (inverse of the regularization strength) and the best solver."
   ]
  },
  {
   "cell_type": "code",
   "execution_count": 150,
   "metadata": {},
   "outputs": [
    {
     "name": "stdout",
     "output_type": "stream",
     "text": [
      "Fitting 3 folds for each of 200 candidates, totalling 600 fits\n"
     ]
    },
    {
     "name": "stdout",
     "output_type": "stream",
     "text": [
      "{'select_k_best__k': 1, 'polynomial_features__degree': 2, 'model__solver': 'liblinear', 'model__C': 0.1}\n"
     ]
    }
   ],
   "source": [
    "from sklearn.model_selection import RandomizedSearchCV\n",
    "\n",
    "target = 'TARGET_5Yrs'\n",
    "balance_method = None\n",
    "\n",
    "data_processed = preprocessing(df, balance_method)\n",
    "X = data_processed.drop(target, axis=1)\n",
    "y = data_processed[target]\n",
    "\n",
    "pipeline = Pipeline(steps=[\n",
    "    ('polynomial_features', PolynomialFeatures(2, include_bias=False)), \n",
    "    ('select_k_best', SelectKBest(f_classif, k=10)), \n",
    "    ('model', LogisticRegression())])\n",
    "\n",
    "param_grid = {'polynomial_features__degree': range(1, 5),\n",
    "                'select_k_best__k': range(1, 19),\n",
    "                'model__C': [0.01, 0.1, 1, 10],\n",
    "                'model__solver': ['liblinear', 'lbfgs', 'saga']}\n",
    "\n",
    "random_search = RandomizedSearchCV(pipeline, param_grid, cv=FOLDS, scoring='f1', n_jobs=-1, verbose=1, n_iter=200)\n",
    "random_search.fit(X, y)\n",
    "\n",
    "print(random_search.best_params_)"
   ]
  },
  {
   "cell_type": "markdown",
   "metadata": {},
   "source": [
    "Let's try again to improve C."
   ]
  },
  {
   "cell_type": "code",
   "execution_count": 52,
   "metadata": {},
   "outputs": [
    {
     "name": "stdout",
     "output_type": "stream",
     "text": [
      "Fitting 5 folds for each of 100 candidates, totalling 500 fits\n",
      "{'select_k_best__k': 9, 'polynomial_features__degree': 1, 'model__solver': 'liblinear', 'model__C': 0.12}\n"
     ]
    }
   ],
   "source": [
    "from sklearn.model_selection import RandomizedSearchCV\n",
    "\n",
    "target = 'TARGET_5Yrs'\n",
    "balance_method = None\n",
    "\n",
    "data_processed = preprocessing(df, balance_method)\n",
    "X = data_processed.drop(target, axis=1)\n",
    "y = data_processed[target]\n",
    "\n",
    "pipeline = Pipeline(steps=[\n",
    "    ('polynomial_features', PolynomialFeatures(2, include_bias=False)), \n",
    "    ('select_k_best', SelectKBest(f_classif, k=10)), \n",
    "    ('model', LogisticRegression())])\n",
    "\n",
    "param_grid = {'polynomial_features__degree': range(1, 3),\n",
    "                'select_k_best__k': range(1, 19),\n",
    "                'model__C': [0.08, 0.1, 0.12],\n",
    "                'model__solver': ['liblinear']}\n",
    "\n",
    "random_search = RandomizedSearchCV(pipeline, param_grid, cv=FOLDS, scoring='f1', n_jobs=-1, verbose=1, n_iter=100)\n",
    "random_search.fit(X, y)\n",
    "\n",
    "print(random_search.best_params_)"
   ]
  },
  {
   "cell_type": "markdown",
   "metadata": {},
   "source": [
    "Let's evaluate the model with the best parameters."
   ]
  },
  {
   "cell_type": "code",
   "execution_count": 151,
   "metadata": {},
   "outputs": [
    {
     "data": {
      "text/plain": [
       "{'confusion_mat': array([[ 71,  96],\n",
       "        [ 35, 239]]),\n",
       " 'recall': 0.8723709144572455,\n",
       " 'precision': 0.7124296091363803,\n",
       " 'accuracy': 0.7025525264802918,\n",
       " 'f1': 0.7840881460310399,\n",
       " 'classifier': Pipeline(steps=[('polynomial_features',\n",
       "                  PolynomialFeatures(degree=1, include_bias=False)),\n",
       "                 ('select_k_best', SelectKBest(k=9)),\n",
       "                 ('model', LogisticRegression(C=0.1, solver='liblinear'))]),\n",
       " 'model_name': 'LogisticRegression'}"
      ]
     },
     "execution_count": 151,
     "metadata": {},
     "output_type": "execute_result"
    }
   ],
   "source": [
    "target = 'TARGET_5Yrs'\n",
    "balance_method = None\n",
    "\n",
    "data_processed = preprocessing(df, balance_method)\n",
    "X = data_processed.drop(target, axis=1)\n",
    "y = data_processed[target]\n",
    "\n",
    "pipeline = Pipeline(steps=[\n",
    "    ('polynomial_features', PolynomialFeatures(1, include_bias=False)), \n",
    "    ('select_k_best', SelectKBest(f_classif, k=9)), \n",
    "    ('model', LogisticRegression(C=0.1, solver='liblinear'))])\n",
    "\n",
    "result = score_classifier(X, pipeline, y, verbose=False)\n",
    "result['model_name'] = 'LogisticRegression'\n",
    "\n",
    "result"
   ]
  },
  {
   "cell_type": "markdown",
   "metadata": {},
   "source": [
    "We observe that the model has a little bit less good performance than the one with the features that we selected. We will keep in mind the other hyperparameters though. Let's try to tune the SVC model."
   ]
  },
  {
   "cell_type": "code",
   "execution_count": 109,
   "metadata": {},
   "outputs": [
    {
     "name": "stdout",
     "output_type": "stream",
     "text": [
      "Fitting 5 folds for each of 100 candidates, totalling 500 fits\n"
     ]
    },
    {
     "name": "stdout",
     "output_type": "stream",
     "text": [
      "{'select_k_best__k': 15, 'polynomial_features__degree': 2, 'model__kernel': 'rbf', 'model__gamma': 'scale', 'model__C': 0.1}\n"
     ]
    }
   ],
   "source": [
    "from sklearn.model_selection import RandomizedSearchCV\n",
    "\n",
    "target = 'TARGET_5Yrs'\n",
    "balance_method = None\n",
    "\n",
    "data_processed = preprocessing(df, balance_method)\n",
    "X = data_processed.drop(target, axis=1)\n",
    "y = data_processed[target]\n",
    "\n",
    "pipeline = Pipeline(steps=[\n",
    "    ('polynomial_features', PolynomialFeatures(2, include_bias=False)), \n",
    "    ('select_k_best', SelectKBest(f_classif, k=10)),\n",
    "    ('scaler', StandardScaler()), \n",
    "    ('model', SVC())])\n",
    "\n",
    "param_grid = {'polynomial_features__degree': range(1, 3),\n",
    "                'select_k_best__k': range(1, 19),\n",
    "                'model__C': [0.01, 0.1, 1, 10, 100, 1000],\n",
    "                'model__kernel': ['rbf'],\n",
    "                'model__gamma': ['scale']}\n",
    "\n",
    "\n",
    "random_search = RandomizedSearchCV(pipeline, param_grid, scoring='f1', n_jobs=-1, verbose=1, n_iter=100)\n",
    "random_search.fit(X, y)\n",
    "\n",
    "print(random_search.best_params_)"
   ]
  },
  {
   "cell_type": "markdown",
   "metadata": {},
   "source": [
    "Let's see how it scores."
   ]
  },
  {
   "cell_type": "code",
   "execution_count": 152,
   "metadata": {},
   "outputs": [
    {
     "data": {
      "text/plain": [
       "{'confusion_mat': array([[ 90,  78],\n",
       "        [ 51, 223]]),\n",
       " 'recall': 0.8126427529305227,\n",
       " 'precision': 0.7405975472626326,\n",
       " 'accuracy': 0.707819644614227,\n",
       " 'f1': 0.7749333008533599,\n",
       " 'classifier': Pipeline(steps=[('polynomial_features', PolynomialFeatures(include_bias=False)),\n",
       "                 ('select_k_best', SelectKBest(k=15)),\n",
       "                 ('scaler', StandardScaler()), ('model', SVC(C=1))]),\n",
       " 'model_name': 'SVC'}"
      ]
     },
     "execution_count": 152,
     "metadata": {},
     "output_type": "execute_result"
    }
   ],
   "source": [
    "target = 'TARGET_5Yrs'\n",
    "balance_method = None\n",
    "\n",
    "data_processed = preprocessing(df, balance_method)\n",
    "X = data_processed.drop(target, axis=1)\n",
    "y = data_processed[target]\n",
    "\n",
    "pipeline = Pipeline(steps=[\n",
    "    ('polynomial_features', PolynomialFeatures(2, include_bias=False)), \n",
    "    ('select_k_best', SelectKBest(f_classif, k=15)), \n",
    "    ('scaler', StandardScaler()), \n",
    "    ('model', SVC(C=1, kernel='rbf', gamma='scale'))])\n",
    "\n",
    "result = score_classifier(X, pipeline, y, verbose=False)\n",
    "result['model_name'] = 'SVC'\n",
    "\n",
    "result"
   ]
  },
  {
   "cell_type": "markdown",
   "metadata": {},
   "source": [
    "We observe a slight loss of performance compare to the logistic regression model. However let's remind that we had a good performance with all parameters selected and that the Random search doesn't search in the full space since it's very big. Let's try to see of we can defind a threashold to improve the F1 score on the logistic regression model."
   ]
  },
  {
   "cell_type": "code",
   "execution_count": 153,
   "metadata": {},
   "outputs": [
    {
     "data": {
      "text/plain": [
       "{'confusion_mat': array([[ 91,  77],\n",
       "        [ 45, 229]]),\n",
       " 'recall': 0.8355377236672202,\n",
       " 'precision': 0.7484986583459343,\n",
       " 'accuracy': 0.7243921704816673,\n",
       " 'f1': 0.7896149633515948,\n",
       " 'classifier': Pipeline(steps=[('scaler', StandardScaler()), ('model', SVC())]),\n",
       " 'model_name': 'SVC'}"
      ]
     },
     "execution_count": 153,
     "metadata": {},
     "output_type": "execute_result"
    }
   ],
   "source": [
    "target = 'TARGET_5Yrs'\n",
    "balance_method = None\n",
    "\n",
    "data_processed = preprocessing(df, balance_method)\n",
    "X = data_processed.drop(target, axis=1)\n",
    "y = data_processed[target]\n",
    "\n",
    "pipeline = Pipeline(steps=[\n",
    "    ('scaler', StandardScaler()),\n",
    "    ('model', SVC())])\n",
    "\n",
    "result = score_classifier(X, pipeline, y,  verbose=False)\n",
    "result['model_name'] = 'SVC'\n",
    "\n",
    "result"
   ]
  },
  {
   "cell_type": "markdown",
   "metadata": {},
   "source": [
    "Let's tune the threashold for the logistic regression model."
   ]
  },
  {
   "cell_type": "code",
   "execution_count": 156,
   "metadata": {},
   "outputs": [
    {
     "data": {
      "image/png": "[encoded data removed]",
      "text/plain": [
       "<Figure size 640x480 with 1 Axes>"
      ]
     },
     "metadata": {},
     "output_type": "display_data"
    },
    {
     "data": {
      "text/plain": [
       "0.48"
      ]
     },
     "execution_count": 156,
     "metadata": {},
     "output_type": "execute_result"
    }
   ],
   "source": [
    "from sklearn.metrics import f1_score\n",
    "target = 'TARGET_5Yrs'\n",
    "balance_method = None\n",
    "features_selected = ['GP', 'PTS', 'FGM', 'MIN', 'FGA', 'DREB', 'BLK', 'AST']\n",
    "\n",
    "data_processed = preprocessing(df, balance_method)\n",
    "X = data_processed[features_selected]\n",
    "y = data_processed[target]\n",
    "\n",
    "lr = Pipeline(steps=[('model', LogisticRegression(C=0.1, solver='liblinear'))])\n",
    "\n",
    "result = score_classifier(X, lr, y, verbose=False)\n",
    "probabilities = lr.predict_proba(X)\n",
    "\n",
    "thresholds = np.arange(0, 1, 0.01)\n",
    "scores = []\n",
    "for threshold in thresholds:\n",
    "    predictions = probabilities[:, 1] > threshold\n",
    "    scores.append(f1_score(y, predictions))\n",
    "\n",
    "plt.plot(thresholds, scores)\n",
    "plt.show()\n",
    "\n",
    "thresholds[np.argmax(scores)]\n"
   ]
  },
  {
   "cell_type": "code",
   "execution_count": 157,
   "metadata": {},
   "outputs": [],
   "source": [
    "def predict_threshold(model, X, threshold=0.48):\n",
    "    probabilities = model.predict_proba(X)\n",
    "    predictions = probabilities[:, 1] > threshold\n",
    "    return predictions"
   ]
  },
  {
   "cell_type": "code",
   "execution_count": 158,
   "metadata": {},
   "outputs": [
    {
     "data": {
      "text/plain": [
       "{'confusion_mat': array([[ 64, 103],\n",
       "        [ 28, 246]]),\n",
       " 'recall': 0.8971306870587447,\n",
       " 'precision': 0.7036819960727035,\n",
       " 'accuracy': 0.7063266702756811,\n",
       " 'f1': 0.7885061777076761,\n",
       " 'classifier': Pipeline(steps=[('model', LogisticRegression(C=0.1, solver='liblinear'))])}"
      ]
     },
     "execution_count": 158,
     "metadata": {},
     "output_type": "execute_result"
    }
   ],
   "source": [
    "# logistic regression with threshold\n",
    "\n",
    "target = 'TARGET_5Yrs'\n",
    "balance_method = None\n",
    "features_selected = ['GP', 'PTS', 'FGM', 'MIN', 'FGA', 'DREB', 'BLK', 'AST']\n",
    "\n",
    "data_processed = preprocessing(df, balance_method)\n",
    "X = data_processed[features_selected]\n",
    "y = data_processed[target]\n",
    "\n",
    "lr = Pipeline(steps=[('model', LogisticRegression(C=0.1, solver='liblinear'))])\n",
    "\n",
    "result = score_classifier(X, lr, y, verbose=False, threshold_func=predict_threshold)\n",
    "\n",
    "result\n"
   ]
  },
  {
   "cell_type": "markdown",
   "metadata": {},
   "source": [
    "We observe a quite good improvement of the F1 score with an excelent recall. However the precision is quite low."
   ]
  },
  {
   "cell_type": "code",
   "execution_count": 159,
   "metadata": {},
   "outputs": [
    {
     "data": {
      "image/png": "[encoded data removed]",
      "text/plain": [
       "<Figure size 640x480 with 1 Axes>"
      ]
     },
     "metadata": {},
     "output_type": "display_data"
    },
    {
     "data": {
      "text/plain": [
       "0.33"
      ]
     },
     "execution_count": 159,
     "metadata": {},
     "output_type": "execute_result"
    }
   ],
   "source": [
    "target = 'TARGET_5Yrs'\n",
    "balance_method = None\n",
    "features_selected = ['GP', 'PTS', 'FGM', 'MIN', 'FGA', 'DREB', 'BLK', 'AST']\n",
    "\n",
    "data_processed = preprocessing(df, balance_method)\n",
    "X = data_processed[features_selected]\n",
    "y = data_processed[target]\n",
    "\n",
    "lr = Pipeline(steps=[\n",
    "    ('scaler', StandardScaler()),\n",
    "    ('model', SVC(C=1, kernel='rbf', gamma='scale', probability=True))])\n",
    "\n",
    "result = score_classifier(X, lr, y, verbose=False)\n",
    "probabilities = lr.predict_proba(X)\n",
    "\n",
    "thresholds = np.arange(0, 1, 0.01)\n",
    "scores = []\n",
    "for threshold in thresholds:\n",
    "    predictions = probabilities[:, 1] > threshold\n",
    "    scores.append(f1_score(y, predictions))\n",
    "\n",
    "plt.plot(thresholds, scores)\n",
    "plt.show()\n",
    "\n",
    "thresholds[np.argmax(scores)]"
   ]
  },
  {
   "cell_type": "code",
   "execution_count": 160,
   "metadata": {},
   "outputs": [],
   "source": [
    "def predict_threshold_svc(model, X, threshold=0.33):\n",
    "    probabilities = model.predict_proba(X)\n",
    "    predictions = probabilities[:, 1] > threshold\n",
    "    return predictions"
   ]
  },
  {
   "cell_type": "code",
   "execution_count": 161,
   "metadata": {},
   "outputs": [
    {
     "data": {
      "text/plain": [
       "{'confusion_mat': array([[ 35, 132],\n",
       "        [ 18, 256]]),\n",
       " 'recall': 0.9350111519176267,\n",
       " 'precision': 0.6594274213785293,\n",
       " 'accuracy': 0.7243921704816673,\n",
       " 'f1': 0.7729980031025553,\n",
       " 'classifier': Pipeline(steps=[('scaler', StandardScaler()),\n",
       "                 ('model', SVC(C=1, probability=True))])}"
      ]
     },
     "execution_count": 161,
     "metadata": {},
     "output_type": "execute_result"
    }
   ],
   "source": [
    "target = 'TARGET_5Yrs'\n",
    "balance_method = None\n",
    "\n",
    "data_processed = preprocessing(df, balance_method)\n",
    "X = data_processed.drop(target, axis=1)\n",
    "y = data_processed[target]\n",
    "\n",
    "lr = Pipeline(steps=[\n",
    "    ('scaler', StandardScaler()),\n",
    "    ('model', SVC(C=1, kernel='rbf', gamma='scale', probability=True))])\n",
    "\n",
    "result = score_classifier(X, lr, y, verbose=False, threshold_func=predict_threshold_svc)\n",
    "\n",
    "result\n"
   ]
  },
  {
   "cell_type": "code",
   "execution_count": 90,
   "metadata": {},
   "outputs": [
    {
     "data": {
      "text/plain": [
       "['./../models/model_1.pkl']"
      ]
     },
     "execution_count": 90,
     "metadata": {},
     "output_type": "execute_result"
    }
   ],
   "source": [
    "# save model\n",
    "\n",
    "import joblib\n",
    "\n",
    "target = 'TARGET_5Yrs'\n",
    "balance_method = None\n",
    "features_selected = ['GP', 'PTS', 'FGM', 'MIN', 'FTA', 'FTM', 'REB', 'OREB', 'FGA']\n",
    "\n",
    "data_processed = preprocessing(df, balance_method)\n",
    "X = data_processed[features_selected]\n",
    "y = data_processed[target]\n",
    "\n",
    "lr = Pipeline(steps=[('model', LogisticRegression(C=0.1, solver='liblinear'))])\n",
    "lr.fit(X, y)\n",
    "\n",
    "joblib.dump(lr, './../models/model_1.pkl')\n",
    "\n",
    "\n",
    "\n"
   ]
  },
  {
   "cell_type": "code",
   "execution_count": 91,
   "metadata": {},
   "outputs": [
    {
     "data": {
      "text/plain": [
       "array([[0.65859722, 0.34140278],\n",
       "       [0.661718  , 0.338282  ],\n",
       "       [0.33962201, 0.66037799],\n",
       "       ...,\n",
       "       [0.36262969, 0.63737031],\n",
       "       [0.50070762, 0.49929238],\n",
       "       [0.56686131, 0.43313869]])"
      ]
     },
     "execution_count": 91,
     "metadata": {},
     "output_type": "execute_result"
    }
   ],
   "source": [
    "# load model\n",
    "\n",
    "import joblib\n",
    "\n",
    "model = joblib.load('./../models/model_1.pkl')\n",
    "\n",
    "model.predict_proba(X)\n"
   ]
  }
 ],
 "metadata": {
  "kernelspec": {
   "display_name": "venv",
   "language": "python",
   "name": "python3"
  },
  "language_info": {
   "codemirror_mode": {
    "name": "ipython",
    "version": 3
   },
   "file_extension": ".py",
   "mimetype": "text/x-python",
   "name": "python",
   "nbconvert_exporter": "python",
   "pygments_lexer": "ipython3",
   "version": "3.9.1"
  }
 },
 "nbformat": 4,
 "nbformat_minor": 2
}
